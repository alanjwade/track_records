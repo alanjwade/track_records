{
 "cells": [
  {
   "cell_type": "code",
   "execution_count": 1,
   "id": "8b88fc7a",
   "metadata": {},
   "outputs": [
    {
     "name": "stdout",
     "output_type": "stream",
     "text": [
      "Parsing sheet: LJ\n",
      "Parsing sheet: D\n",
      "Parsing sheet: HJ\n",
      "Parsing sheet: TJ\n",
      "Parsing sheet: 4X400\n",
      "Parsing sheet: 200\n",
      "Parsing sheet: 200 H\n",
      "Parsing sheet: 800\n",
      "Parsing sheet: 4X100\n",
      "Parsing sheet: 400\n",
      "Parsing sheet: 4X200\n",
      "Parsing sheet: 100\n",
      "Parsing sheet: 100 H\n",
      "Parsing sheet: 1600\n"
     ]
    }
   ],
   "source": [
    "from track_records.data_man import *\n",
    "import pandas as pd\n",
    "from pathlib import Path\n",
    "from pprint import pprint as pp\n",
    "\n",
    "df = parse_excel_results('NCIL_2_2025_04_12.xlsx')\n",
    "\n",
    "df = assign_places(df)\n",
    "\n",
    "\n",
    "#print_team_scores(df)\n",
    "#create_results_pdf(df, 'NCIL_2_2025_04_12.pdf', highlight='Saint Joseph Catholic School')\n",
    "create_results_pdf(df, 'NCIL_2_2025_04_12.pdf')\n"
   ]
  }
 ],
 "metadata": {
  "kernelspec": {
   "display_name": ".venv",
   "language": "python",
   "name": "python3"
  },
  "language_info": {
   "codemirror_mode": {
    "name": "ipython",
    "version": 3
   },
   "file_extension": ".py",
   "mimetype": "text/x-python",
   "name": "python",
   "nbconvert_exporter": "python",
   "pygments_lexer": "ipython3",
   "version": "3.11.12"
  }
 },
 "nbformat": 4,
 "nbformat_minor": 5
}
